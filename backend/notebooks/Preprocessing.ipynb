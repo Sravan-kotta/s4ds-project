{
 "cells": [
  {
   "cell_type": "code",
   "execution_count": 24,
   "metadata": {},
   "outputs": [],
   "source": [
    "import os\n",
    "import re"
   ]
  },
  {
   "cell_type": "code",
   "execution_count": 25,
   "metadata": {},
   "outputs": [],
   "source": [
    "def correct_text(text_lines):\n",
    "    corrected_lines = []\n",
    "    uni_pattern = re.compile(r'\\bSAVITRI(?:B|T)AI\\s+PHULE\\s+PUNE\\s+UNIVERSI[TY]*', re.IGNORECASE)\n",
    "    for line in text_lines:\n",
    "        # Correct common misspellings\n",
    "        line = re.sub(uni_pattern, '', line)\n",
    "        line = line.replace('Procedural', 'Procedural')\n",
    "        line = line.replace('Object Oriented', 'Object-Oriented')\n",
    "        line = line.replace('bale', 'base')\n",
    "        line = line.replace('SAVITRIBAL', 'SAVITRIBAI')\n",
    "        line = line.replace('int main() &', 'int main() {')\n",
    "        line = line.replace('cout <', 'cout <<')\n",
    "        line = line.replace('derived:', 'derived:')\n",
    "        line = line.replace('Publici', 'public:')\n",
    "        line = line.replace('inta', 'int a;')\n",
    "        line = line.replace('intb', 'int b;')\n",
    "        line = line.replace('Intx', 'int x;')\n",
    "        line = line.replace('Inty', 'int y;')\n",
    "        line = line.replace('vois', 'void')\n",
    "        line = line.replace('fper', 'function pointer')\n",
    "        line = line.replace('Apty', 'applies to')\n",
    "        line = line.replace('Requencing', 'Referencing')\n",
    "        line = line.replace('Absachen', 'abstraction')\n",
    "        line = line.replace('And weer', 'and keep')\n",
    "        line = line.replace('ful', 'full')\n",
    "        line = line.replace('Agether', 'together')\n",
    "        line = line.replace('Trivse', 'These')\n",
    "        line = line.replace('fupation', 'function')\n",
    "        line = line.replace('com', 'come')\n",
    "        line = line.replace('Preblic', 'Public')\n",
    "        line = line.replace('Syntan', 'Syntax')\n",
    "        line = line.replace('Syntex', 'Syntax')\n",
    "        line = line.replace('Syntaxs', 'Syntax')\n",
    "        line = line.replace('Enceptulation', 'Encapsulation')\n",
    "        line = line.replace('Ans', 'Answer')\n",
    "        line = line.replace('voil', 'void')\n",
    "        line = line.replace('inferitance', 'inheritance')\n",
    "        line = line.replace('centrcome', 'centricome')\n",
    "        line = line.replace('bre', 'break')\n",
    "        line = line.replace('clerived', 'derived')\n",
    "        line = line.replace('Inheritanc', 'Inheritance')\n",
    "        line = line.replace('drrived', 'derived')\n",
    "        line = line.replace('Hans', 'Has')\n",
    "        line = line.replace('உடம்', '')  # non-English character, removed\n",
    "        line = line.replace('Juhk', 'Junk')\n",
    "        line = line.replace('conted', 'contained')\n",
    "        line = line.replace('abcuticul', 'about')\n",
    "        line = line.replace('specificus', 'specifiers')\n",
    "\n",
    "        # Fix C++ syntax issues\n",
    "        if 'class' in line and '{' not in line:\n",
    "            line = line.replace('class', 'class {')\n",
    "\n",
    "        corrected_lines.append(line.strip())\n",
    "    return corrected_lines"
   ]
  },
  {
   "cell_type": "code",
   "execution_count": 26,
   "metadata": {},
   "outputs": [],
   "source": [
    "def remove_university_name(text_lines):\n",
    "    corrected_lines = []\n",
    "    # Regex pattern to capture various spellings of the university name\n",
    "    pattern = re.compile(r'\\bSAVITRI(?:B|T)AI\\s+PHULE\\s+PUNE\\s+UNIVERSI[TY]*', re.IGNORECASE)\n",
    "\n",
    "    for line in text_lines:\n",
    "        # Replace the university name with an empty string\n",
    "        corrected_line = re.sub(pattern, '', line)\n",
    "        corrected_lines.append(corrected_line)\n",
    "    \n",
    "    return corrected_lines"
   ]
  },
  {
   "cell_type": "code",
   "execution_count": 27,
   "metadata": {},
   "outputs": [],
   "source": [
    "def process_files_in_directory(directory_path, output_directory):\n",
    "    for filename in os.listdir(directory_path):\n",
    "        if filename.endswith('.txt'):\n",
    "            filepath = os.path.join(directory_path, filename)\n",
    "            with open(filepath, 'r') as file:\n",
    "                content = file.readlines()\n",
    "\n",
    "            # Process the content\n",
    "            for _ in range(4):  # Apply corrections four times\n",
    "                content = correct_text(content)\n",
    "                cleaned_content = remove_university_name(content)\n",
    "\n",
    "            # Save the corrected content\n",
    "            \n",
    "            new_filepath = os.path.join(output_directory, f'Student_{filename}')\n",
    "            with open(new_filepath, 'w') as file:\n",
    "                file.write('\\n'.join(cleaned_content))\n",
    "            print(f'Processed {filename} and saved corrections to {new_filepath}')"
   ]
  },
  {
   "cell_type": "code",
   "execution_count": 28,
   "metadata": {},
   "outputs": [],
   "source": [
    "source_directory = '../data/results'\n",
    "output_directory = '../data/reflections'"
   ]
  },
  {
   "cell_type": "code",
   "execution_count": 29,
   "metadata": {},
   "outputs": [],
   "source": [
    "os.makedirs(output_directory, exist_ok=True)"
   ]
  },
  {
   "cell_type": "code",
   "execution_count": null,
   "metadata": {},
   "outputs": [],
   "source": [
    "process_files_in_directory(source_directory, output_directory)"
   ]
  },
  {
   "cell_type": "code",
   "execution_count": 31,
   "metadata": {},
   "outputs": [
    {
     "name": "stdout",
     "output_type": "stream",
     "text": [
      "This is an example from SAVITRIBAL PHULE PUNE UNIVERSITY.\n",
      "Here is another one from .\n",
      "Some correct spelling from .\n",
      "Misspellings are common in .\n"
     ]
    }
   ],
   "source": [
    "cleaned_lines = remove_university_name(text_lines)\n",
    "for line in cleaned_lines:\n",
    "    print(line)"
   ]
  }
 ],
 "metadata": {
  "kernelspec": {
   "display_name": "base",
   "language": "python",
   "name": "python3"
  },
  "language_info": {
   "codemirror_mode": {
    "name": "ipython",
    "version": 3
   },
   "file_extension": ".py",
   "mimetype": "text/x-python",
   "name": "python",
   "nbconvert_exporter": "python",
   "pygments_lexer": "ipython3",
   "version": "3.11.7"
  }
 },
 "nbformat": 4,
 "nbformat_minor": 2
}
